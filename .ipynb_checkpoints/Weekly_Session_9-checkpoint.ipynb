{
 "cells": [
  {
   "cell_type": "markdown",
   "metadata": {},
   "source": [
    "# Weekly Session 9\n",
    "\n",
    "## Goal: \n",
    "To master the basics of solving first-order ordinary differential equations (ODEs) by Runge-Kutta methods.\n",
    "\n",
    "## Readings: \n",
    "\n",
    "        * Newman 8.1 First-order differential equations with one variable\n",
    "        * Newman 8.2 Differential equations with more than one variable\n",
    "        * Newman 8.3 Second-Order Differential Equations\n",
    "        * Newman 8.4 Varying the Step Size"
   ]
  },
  {
   "cell_type": "code",
   "execution_count": 1,
   "metadata": {
    "collapsed": false
   },
   "outputs": [
    {
     "data": {
      "text/html": [
       "<style>\n",
       "div.warn {\n",
       "    background-color: black;\n",
       "    border-color: #dFb5b4;\n",
       "    border-left: 5px solid #dfb5b4;\n",
       "    padding: 0.5em\n",
       "    color: white;\n",
       "    }\n",
       " </style>\n",
       "\n",
       " <style>\n",
       " div.answer {\n",
       "     background-color: lightblue;\n",
       "     border-color: #dFb5b4;\n",
       "     border-left: 5px solid #dfb5b4;\n",
       "     padding: 0.5em\n",
       "     }\n",
       "  </style>\n"
      ],
      "text/plain": [
       "<IPython.core.display.HTML object>"
      ]
     },
     "execution_count": 1,
     "metadata": {},
     "output_type": "execute_result"
    }
   ],
   "source": [
    "#For colored cells, currently blue cells, black text \n",
    "#https://stackoverflow.com/questions/18024769/adding-custom-styled-paragraphs-in-markdown-cells\n",
    "from IPython.core.display import HTML\n",
    "def css_styling():\n",
    "    styles = open(\"style.css\", \"r\").read()\n",
    "    return HTML(styles)\n",
    "css_styling()"
   ]
  },
  {
   "cell_type": "markdown",
   "metadata": {},
   "source": [
    "<div class=answer>\n",
    "*This should be a blue cell with black font if you set the filepath correctly*</font>\n",
    "<div/>"
   ]
  },
  {
   "cell_type": "markdown",
   "metadata": {},
   "source": [
    "## Exercise 0  <a id='ex0'></a>\n",
    "*There is an html tag hiding in the line above*\n",
    "\n",
    "### Terminal Commands in the notebook\n",
    "Note that you can run basic terminal commands in a jupyter notebook as follows.  Try out a few of your own.  Note that sometimes they just work, but sometimes need to be prefaced with a \"!\" or a cell magic \"%%bash\".  Check out the [link](https://blog.dominodatalab.com/lesser-known-ways-of-using-notebooks/) for more tricks.  \n",
    "\n",
    "*Side note, in the same link there is a latex cell magic I use sometimes that can be very useful (Markdown has some issues that get annoying).*\n",
    "\n",
    "Add a comment to each terminal command below to explain what it is doing.  "
   ]
  },
  {
   "cell_type": "code",
   "execution_count": 2,
   "metadata": {
    "collapsed": false
   },
   "outputs": [
    {
     "name": "stdout",
     "output_type": "stream",
     "text": [
      " Volume in drive C is OS\n",
      " Volume Serial Number is FE3E-5E0A\n",
      "\n",
      " Directory of C:\\Users\\workshop\\Documents\\GitHub\\Weekly-Sessions_partII\n",
      "\n",
      "\n",
      " Directory of C:\\Users\\workshop\\Documents\\GitHub\\Weekly-Sessions_partII\n",
      "\n",
      "\n",
      " Directory of C:\\Users\\workshop\\Documents\\GitHub\\Weekly-Sessions_partII\n",
      "\n",
      "\n",
      " Directory of C:\\Users\\workshop\\Documents\\GitHub\\Weekly-Sessions_partII\n",
      "\n",
      "\n",
      " Directory of C:\\Users\\workshop\\Documents\\GitHub\\Weekly-Sessions_partII\n",
      "\n",
      "\n",
      " Directory of C:\\Users\\workshop\\Documents\\GitHub\\Weekly-Sessions_partII\n",
      "\n"
     ]
    },
    {
     "name": "stderr",
     "output_type": "stream",
     "text": [
      "File Not Found\n"
     ]
    }
   ],
   "source": [
    "ls # List of files in directory"
   ]
  },
  {
   "cell_type": "code",
   "execution_count": 3,
   "metadata": {
    "collapsed": false
   },
   "outputs": [
    {
     "data": {
      "text/plain": [
       "'C:\\\\Users\\\\workshop\\\\Documents\\\\GitHub\\\\Weekly-Sessions_partII'"
      ]
     },
     "execution_count": 3,
     "metadata": {},
     "output_type": "execute_result"
    }
   ],
   "source": [
    "pwd # Prints working Directory"
   ]
  },
  {
   "cell_type": "code",
   "execution_count": 17,
   "metadata": {
    "collapsed": false
   },
   "outputs": [
    {
     "ename": "SyntaxError",
     "evalue": "invalid syntax (<ipython-input-17-b63ae31bea9f>, line 2)",
     "output_type": "error",
     "traceback": [
      "\u001b[1;36m  File \u001b[1;32m\"<ipython-input-17-b63ae31bea9f>\"\u001b[1;36m, line \u001b[1;32m2\u001b[0m\n\u001b[1;33m    cat README.md # Open file in bash\u001b[0m\n\u001b[1;37m             ^\u001b[0m\n\u001b[1;31mSyntaxError\u001b[0m\u001b[1;31m:\u001b[0m invalid syntax\n"
     ]
    }
   ],
   "source": [
    "\n",
    "cat README.md # Open file in bash"
   ]
  },
  {
   "cell_type": "code",
   "execution_count": 18,
   "metadata": {
    "collapsed": false
   },
   "outputs": [
    {
     "name": "stderr",
     "output_type": "stream",
     "text": [
      "'tail' is not recognized as an internal or external command,\n",
      "operable program or batch file.\n"
     ]
    }
   ],
   "source": [
    "!tail README.md # Opens the last ten lines of the file"
   ]
  },
  {
   "cell_type": "markdown",
   "metadata": {},
   "source": [
    "### Getting webpage data\n",
    "The command below \"gets\" the data from the webpage and prints it.\n",
    "Once you see what it does, feel free to comment out the line (or clear the cell output). \n",
    "A similar command is wget.\n",
    "\n",
    "*Note that you would have to work harder if you were linked to an html page instead of a pure text file.  That is called \"scrapping the web\" and is a common data science task.*"
   ]
  },
  {
   "cell_type": "code",
   "execution_count": 19,
   "metadata": {
    "collapsed": false
   },
   "outputs": [
    {
     "name": "stderr",
     "output_type": "stream",
     "text": [
      "'curl' is not recognized as an internal or external command,\n",
      "operable program or batch file.\n"
     ]
    }
   ],
   "source": [
    "!curl http://www-personal.umich.edu/~mejn/computational-physics/sunspots.txt "
   ]
  },
  {
   "cell_type": "markdown",
   "metadata": {},
   "source": [
    "### Piping data into a file\n",
    "to make the curl command more useful, try piping it into a file (using \">\").  Piping is a set of terminal commands that helps you process text on the terminal, but moving data into a file.  Here is some pseudocode to do just that.  Modify the line to pipe the sunspot data into a file named ```sunspots.txt```\n",
    "\n",
    "        !curl url_name > filename\n",
    "        \n",
    "You will need to update the ```url_name``` and ```filename``` to match the task"
   ]
  },
  {
   "cell_type": "code",
   "execution_count": null,
   "metadata": {
    "collapsed": true
   },
   "outputs": [],
   "source": [
    "#your code here"
   ]
  },
  {
   "cell_type": "markdown",
   "metadata": {},
   "source": [
    "### Links in Jupyter Notebooks\n",
    "Way back in Week 1, I included links within the Jupyter notebook so you could navigate more readily.  However, I stopped using them because I couldn't easily guess what would be Monday's work, Wednesday's work, etc.  I've started the process below of creating a linked table of contents for all of the exercises.  **Please complete the table of exercises so you can more easily navigate this notebook.**\n",
    "\n",
    "*To complete the task, you will need to look at the markdown cells the following links direct to. *\n",
    "\n",
    "* [Exercise 0](#ex0)\n",
    "* [Exercise 1](#ex1)\n",
    "* [Exercise 2](#ex2)\n",
    "* [Exercise 3](#ex3)\n",
    "* [Exercise 4](#ex4)\n",
    "\n",
    "Note that in your Final Project a table of contents with page links will be required."
   ]
  },
  {
   "cell_type": "code",
   "execution_count": null,
   "metadata": {
    "collapsed": true
   },
   "outputs": [],
   "source": []
  },
  {
   "cell_type": "markdown",
   "metadata": {},
   "source": [
    "### Intro to the ticker\n",
    "\n",
    "The ticker is a very useful feature of Matplotlib that I use regularly to make a plot \"just so\" for publication.  Here is a nice introduction to its features:\n",
    "https://matplotlib.org/examples/ticks_and_spines/tick-locators.html\n",
    "\n",
    "You can run this in a Jupyter Notebook and see a similar plot as the webpage.  Here is a shorter example based on the matplotlib library that would have come in handy last week with the intensity plot you made.  Do the following: \n",
    "\n",
    "* Go through and add some comments to understand what this code does.  \n",
    "* Modify the y-axis so the plot is a log-log plot and apply the LogLocator() to its axes labels as well.\n",
    "* If you like, you are welcome to try out your intensity plot from last week on it.  You will need to tweak the LogLocator a bit.*"
   ]
  },
  {
   "cell_type": "code",
   "execution_count": 28,
   "metadata": {
    "collapsed": false
   },
   "outputs": [
    {
     "data": {
      "image/png": "[encoded data removed]",
      "text/plain": [
       "<matplotlib.figure.Figure at 0x8c08a90>"
      ]
     },
     "metadata": {},
     "output_type": "display_data"
    }
   ],
   "source": [
    "\"\"\"\n",
    "=============\n",
    "Tick locators\n",
    "=============\n",
    "\n",
    "Show the different tick locators.\n",
    "\"\"\"\n",
    "# Import necessary libraries\n",
    "import numpy as np\n",
    "import matplotlib.pyplot as plt\n",
    "import matplotlib.ticker as ticker\n",
    "% matplotlib inline\n",
    "\n",
    "# Makes a a logspace array from 10^0 to 10^10 of 50 points\n",
    "x = np.logspace(0,10)\n",
    "\n",
    "# Adjust figure size to 8x6\n",
    "plt.figure(figsize=(8, 6))\n",
    "\n",
    "# Log Locator\n",
    "ax = plt.subplot(111)\n",
    "#setup(ax)\n",
    "ax.set_xlim(10**3, 10**10)\n",
    "ax.set_xscale('log')\n",
    "ax.plot(x,x)\n",
    "\n",
    "# Sets the x-axis to be on a logerithmic scale of base 10 with approximately 15 ticks\n",
    "ax.xaxis.set_major_locator(ticker.LogLocator(base=10.0, numticks=5))\n",
    "\n",
    "# Adds text with formatting\n",
    "ax.text(0.5, 0.9, \"LogLocator(base=10, numticks=15)\",\n",
    "        fontsize=15, transform=ax.transAxes,ha=\"center\")\n",
    "\n",
    "plt.show()"
   ]
  },
  {
   "cell_type": "markdown",
   "metadata": {},
   "source": [
    "## Exercise 1 - Euler's method (again) <a id='ex1'></a>\n",
    "*There is an html tag hiding in the line above* \n",
    "\n",
    "The first step, of course, is to set up a function which carries out solution of an ODE.  Newman writes code for all the methods we are considering (Euler, second-order Runge-Kutta, and fourth-order Runge-Kutta).  But, as usual, Newman's coding examples are all single-use *programs*, not general *functions* which can be reused from other programs.  \n",
    "\n",
    "So, let us fix that situation, and make ourselves a general function!  This is a great opportunity for you to \n",
    "    (1) run through how the method works and, even more important, \n",
    "    (2) isolate exactly what the \"interface'' is (what the inputs and outputs are).\n",
    "\n",
    "What is the interface you need for a first-order ODE solver? \n",
    "\n",
    "Actually, first of all, since this would affect the interface\n",
    "slightly, what type of problem are we solving in Section~8.1 - *initial value* or *boundary value*?\n"
   ]
  },
  {
   "cell_type": "markdown",
   "metadata": {},
   "source": [
    "<div class=answer>\n",
    "<div/>\n",
    "We are solving an initial value problem. Therefore, we need an initial value of f(x,t), time step, and the differential equation. The outputs are the approximated value of f(x,t) after a time step."
   ]
  },
  {
   "cell_type": "markdown",
   "metadata": {},
   "source": [
    "First write an ODE solver based on Euler's method.  We will call the function ```solve``` so it can be generalized.  I've gotten you started."
   ]
  },
  {
   "cell_type": "code",
   "execution_count": 52,
   "metadata": {
    "collapsed": true
   },
   "outputs": [],
   "source": [
    "def solve(f,y0,interval,steps,order=1):\n",
    "    \"\"\" Solve ODE by Euler or Runge-Kutta methods, with fixed number\n",
    "    of steps.\n",
    "\n",
    "    In contrast to the examples of Newman Chapter 8, which build up a\n",
    "    list, point by point, \n",
    "    \n",
    "    f: function giving ODE as y'=f(x,y)\n",
    "    y0: initial value\n",
    "    interval: tuple region (a,b) on which to solve ODE\n",
    "    steps: number of steps\n",
    "    order: order of solution method (1 for Euler, 2 or 4 for Runge-Kutta)\n",
    "    \n",
    "    Returns (x,y) points, as (steps+1)x2 numpy array.\n",
    "    \"\"\"\n",
    "    \n",
    "    if order == 1:\n",
    "        (a,b) = interval\n",
    "        h = (b-a)/steps\n",
    "        x = a\n",
    "        \n",
    "        numsteps=0\n",
    "        while numsteps< steps:\n",
    "            ynew = y0 + h*f(y0,x)\n",
    "            y0 = ynew\n",
    "            x += h\n",
    "            numsteps +=1\n",
    "    \n",
    "    \n",
    "    return b,y0\n",
    "    \n",
    "    "
   ]
  },
  {
   "cell_type": "markdown",
   "metadata": {},
   "source": [
    "#### Use your solver on the equation in Examples 8.1-8.3"
   ]
  },
  {
   "cell_type": "code",
   "execution_count": 53,
   "metadata": {
    "collapsed": false
   },
   "outputs": [
    {
     "data": {
      "text/plain": [
       "(10, 0.4339457710960541)"
      ]
     },
     "execution_count": 53,
     "metadata": {},
     "output_type": "execute_result"
    }
   ],
   "source": [
    "import math\n",
    "\n",
    "def f(x,y):\n",
    "    return -x**3 +math.sin(y)\n",
    "\n",
    "solve(f,0,(0,10),1000,order=1)"
   ]
  },
  {
   "cell_type": "markdown",
   "metadata": {},
   "source": [
    "## Exercise 2 - Code Validation and profiling\n",
    "<a id='ex2'>Visible Link to Ex 2</a>\n",
    "\n",
    "Okay, so you've written it. It runs. But that's only half the battle. How can we test if it\n",
    "actually works correctly? Usually I have given you validation tests to run. But, in real life,\n",
    "you have to come up with your own tests.\n",
    "\n",
    "**Validate! Validate! Validate! ** *Or you will be sorry later, after you have been using it for a month or two, and you discover that all your results are wrong.*\n",
    "\n",
    "Do you have any first-order differential equations with known solutions you can test against? Choose one, and please note the equation and solution here. "
   ]
  },
  {
   "cell_type": "markdown",
   "metadata": {},
   "source": [
    "<div class=answer>\n",
    "<div/>\n",
    "The equation we are using is $\\frac{dy}{dt} = y$. The solution to this differential equation is $y = e^t$."
   ]
  },
  {
   "cell_type": "markdown",
   "metadata": {},
   "source": [
    "Test that your calculated curve approaches the known curve, as you decrease the step size, and plot the results (showing the effect of step size)."
   ]
  },
  {
   "cell_type": "code",
   "execution_count": 62,
   "metadata": {
    "collapsed": false
   },
   "outputs": [
    {
     "data": {
      "text/plain": [
       "(10, 50.94999999999933)"
      ]
     },
     "execution_count": 62,
     "metadata": {},
     "output_type": "execute_result"
    }
   ],
   "source": [
    "def f2(t,y):\n",
    "    return y\n",
    "\n",
    "solve(f2,1,(0,10),1000,order=1)"
   ]
  },
  {
   "cell_type": "markdown",
   "metadata": {},
   "source": [
    "On the basis of Newman's discussion of the matter, what \"order'' is Euler's method, and what does this mean in terms of the expected dependence of errors on the step size?"
   ]
  },
  {
   "cell_type": "code",
   "execution_count": 55,
   "metadata": {
    "collapsed": false
   },
   "outputs": [
    {
     "name": "stdout",
     "output_type": "stream",
     "text": [
      "22026.465794806718\n"
     ]
    }
   ],
   "source": [
    "print(math.exp(10))"
   ]
  },
  {
   "cell_type": "markdown",
   "metadata": {},
   "source": [
    "<div class=answer>\n",
    "<div/>\n",
    "Answer here"
   ]
  },
  {
   "cell_type": "markdown",
   "metadata": {},
   "source": [
    "### Basic Code Profiling \n",
    "Now I would be curious to see if the error on your results really does\n",
    "scale with the step size as expected from\n",
    "Newman's analysis.  Look at the calculated value of your function once we\n",
    "get to the right endpoint of the interval.  Investigate this and\n",
    "summarize your results.  \n",
    "\n",
    "*You can simply write a table of relevant numbers,\n",
    "based on the test runs you have already done,\n",
    "and explain.  (But, if you want to get really fancy, you can also do\n",
    "plots like we did for the integration errors as a function of step\n",
    "size.)*"
   ]
  },
  {
   "cell_type": "code",
   "execution_count": null,
   "metadata": {
    "collapsed": true
   },
   "outputs": [],
   "source": [
    "#your code here"
   ]
  },
  {
   "cell_type": "markdown",
   "metadata": {},
   "source": [
    "<div class=answer>\n",
    "<div/>\n",
    "Answer here"
   ]
  },
  {
   "cell_type": "markdown",
   "metadata": {},
   "source": [
    "## Exercise 3 - Runge-Kutta methods <a id='ex3'></a>\n",
    "\n",
    "Now that you have your ODE solver in place, it is easy to add new solution methods to it.  Modify ```solve``` so that it accepts an optional argument ```order```, to switch between Euler, second-order Runge-Kutta, and fourth-order Runge-Kutta methods.\n",
    "\n",
    "Test these solution methods out on the same ODE's you used above with Euler's method.  Again, make a plot showing how these functions work with different step sizes."
   ]
  },
  {
   "cell_type": "code",
   "execution_count": null,
   "metadata": {
    "collapsed": true
   },
   "outputs": [],
   "source": [
    "#your code here"
   ]
  },
  {
   "cell_type": "markdown",
   "metadata": {},
   "source": [
    "<div class=answer>\n",
    "<div/>\n",
    "Answer here"
   ]
  },
  {
   "cell_type": "markdown",
   "metadata": {},
   "source": [
    "## Exercise 4 - Newman Exercise 8.1 <a id='ex4'></a>\n",
    "\n",
    "On page 339 of Newman, there is shown a simple electronic circuit with one resistor and one capacitor.  This circuit acts as a low-pass filter: you send a signal in on the left and it comes out filtered on the right.\n",
    "\n",
    "Using Ohm's law and the capacitor law and assuming that the output load has very high impedance, so that a negligible amount of current flows through it, we can write down the equations governing this circuit as follows.  Let $I$ be the current that flows through $R$ and into the capacitor, and let $Q$ be the charge on the capacitor.  Then:\n",
    "$$\n",
    "\\begin{align}\n",
    "IR = V_\\textrm{in} - V_\\textrm{out}\\,,\\qquad\n",
    " Q = CV_\\textrm{out}\\,,\\qquad\n",
    " I = {d Q\\over dt}.\n",
    "\\end{align}\n",
    "$$\n",
    "\n",
    "Substituting the second equation into the third, then substituting the\n",
    "result into the first equation, we find that $V_\\textrm{in} -\n",
    "V_\\textrm{out} = RC\\>({dV_\\textrm{out}/dt})$, or equivalently\n",
    "\n",
    "$$\n",
    "\\begin{align}\n",
    "{ dV_\\textrm{out}\\over dt} &= {1\\over RC}\n",
    "                               \\bigl( V_\\textrm{in} - V_\\textrm{out} \\bigr).\n",
    "\\end{align}\n",
    "$$\n",
    "\n",
    "Write a program (or modify a previous one) to solve this equation for $V_\\textrm{out}(t)$ using the fourth-order Runge-Kutta method when in the input signal is a square-wave with frequency~1 and amplitude~1:\n",
    "$$\n",
    "\\begin{equation}\n",
    "V_\\textrm{in}(t) = \\begin{cases}\n",
    "                     1  & \\qquad\\mbox{if $\\lfloor 2t \\rfloor$ is even,} \\\\\n",
    "                     -1 & \\qquad\\mbox{if $\\lfloor 2t \\rfloor$ is odd,}\n",
    "                   \\end{cases}\n",
    "\\end{equation}\n",
    "$$\n",
    "\n",
    "where $\\lfloor x\\rfloor$ means $x$ rounded down to the next lowest integer.\n",
    "Use the program to make plots of the output of the filter circuit from $t=0$ to $t=10$ when $RC=0.01$, $0.1$, and $1$, with initial condition $V_\\textrm{out}(0)=0$.  You will have to make a decision about\n",
    "what value of $h$ to use in your calculation.  Small values give more accurate results, but the program will take longer to run.  Try a variety of different values and choose one for your final calculations that seems\n",
    "sensible to you.  "
   ]
  },
  {
   "cell_type": "code",
   "execution_count": null,
   "metadata": {
    "collapsed": true
   },
   "outputs": [],
   "source": [
    "#your code here"
   ]
  },
  {
   "cell_type": "markdown",
   "metadata": {},
   "source": [
    "Based on the graphs produced by your program, describe what you see\n",
    "  and explain what the circuit is doing."
   ]
  },
  {
   "cell_type": "markdown",
   "metadata": {},
   "source": [
    "<div class=answer>\n",
    "<div/>\n",
    "Answer here"
   ]
  },
  {
   "cell_type": "markdown",
   "metadata": {},
   "source": [
    "A program similar to the one you wrote is running inside most stereos and music players, to create the effect of the \"bass'' control.  In the old days, the bass control on a stereo would have been connected to a real\n",
    "electronic low-pass filter in the amplifier circuitry, but these days there is just a computer processor that simulates the behavior of the filter in a\n",
    "manner similar to your program.\n",
    "\n",
    "**Disclaimer from (Mark Caprio):** Well, sort of.  Digital signal processing is usually actually based on much simpler algorithms, which look sort of like recurrence relations.  A digital low-pass filter would have a similar *frequency response* to a physical low-pass filter, but it is not meant to strictly simulate one.  So the algorithm can be much simpler than a Runge-Kutta solver!  Let us denote the input voltages at the different time steps ($t_i=t_0+ ih$) by $x_i$. Then the output voltages $y_i$ would be given by a rule such as\n",
    "$$\n",
    "y_i = \\alpha x_i + (1-\\alpha) y_i, \n",
    "$$\n",
    "where $\\alpha=h/(RC+h)$.\n",
    "\n",
    "See also\n",
    "http://en.wikipedia.org/wiki/Low-pass#Discrete-time_realization.\n"
   ]
  },
  {
   "cell_type": "markdown",
   "metadata": {},
   "source": [
    "## Lab Exercises (subject to modification)\n",
    "\n",
    "* Newman 8.2 - The Lotka-Volterra equations\n",
    "* Newman 8.3 - The Lorenz equations\n",
    "* Newman 8.4 - The non-linear pendulum\n",
    "* Newman 8.5 - The driven pendulum\n",
    "\n",
    "*This is a lot - I know this.  There may be some adjustments.*\n",
    "\n"
   ]
  },
  {
   "cell_type": "code",
   "execution_count": null,
   "metadata": {
    "collapsed": true
   },
   "outputs": [],
   "source": [
    "# add code and cells as necessary."
   ]
  }
 ],
 "metadata": {
  "kernelspec": {
   "display_name": "Python 3",
   "language": "python",
   "name": "python3"
  },
  "language_info": {
   "codemirror_mode": {
    "name": "ipython",
    "version": 3
   },
   "file_extension": ".py",
   "mimetype": "text/x-python",
   "name": "python",
   "nbconvert_exporter": "python",
   "pygments_lexer": "ipython3",
   "version": "3.4.4"
  }
 },
 "nbformat": 4,
 "nbformat_minor": 2
}
